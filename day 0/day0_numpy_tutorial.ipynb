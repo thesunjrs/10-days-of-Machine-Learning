{
 "cells": [
  {
   "cell_type": "markdown",
   "metadata": {},
   "source": [
    "\n",
    "\n",
    " `NumPy is a powerful library for scientific computing in Python.` \n",
    " `In this notebook, we'll explore the important functions of NumPy used in Python.`\n",
    "\n",
    "\n"
   ]
  },
  {
   "cell_type": "code",
   "execution_count": 1,
   "metadata": {},
   "outputs": [
    {
     "name": "stdout",
     "output_type": "stream",
     "text": [
      "1.26.4\n"
     ]
    }
   ],
   "source": [
    "import numpy as np # Importing numpy library\n",
    "print(np.__version__) # Printing the version of numpy library"
   ]
  },
  {
   "cell_type": "code",
   "execution_count": 2,
   "metadata": {},
   "outputs": [
    {
     "name": "stdout",
     "output_type": "stream",
     "text": [
      "[4 5 6]\n"
     ]
    }
   ],
   "source": [
    "a=np.array([4,5,6]) #this will create a 1D array\n",
    "print(a) #this will print the array\n"
   ]
  },
  {
   "cell_type": "code",
   "execution_count": 3,
   "metadata": {},
   "outputs": [
    {
     "name": "stdout",
     "output_type": "stream",
     "text": [
      "(3,)\n"
     ]
    }
   ],
   "source": [
    "print(a.shape)  #this will give the shape of the array. it will give the number of elements in the array. it give value in tuple."
   ]
  },
  {
   "cell_type": "code",
   "execution_count": 4,
   "metadata": {},
   "outputs": [
    {
     "name": "stdout",
     "output_type": "stream",
     "text": [
      "int32\n"
     ]
    }
   ],
   "source": [
    "print(a.dtype) #this will give the data type of the array. it will give the data type of the elements in the array."
   ]
  },
  {
   "cell_type": "code",
   "execution_count": 5,
   "metadata": {},
   "outputs": [
    {
     "name": "stdout",
     "output_type": "stream",
     "text": [
      "1\n"
     ]
    }
   ],
   "source": [
    "print(a.ndim) #this will give the dimension of the array. it will give the number of dimensions of the array."
   ]
  },
  {
   "cell_type": "code",
   "execution_count": 6,
   "metadata": {},
   "outputs": [
    {
     "name": "stdout",
     "output_type": "stream",
     "text": [
      "3\n"
     ]
    }
   ],
   "source": [
    "print(a.size) #this will give the size of the array. it will give the number of elements in the array."
   ]
  },
  {
   "cell_type": "code",
   "execution_count": 7,
   "metadata": {},
   "outputs": [
    {
     "name": "stdout",
     "output_type": "stream",
     "text": [
      "4\n"
     ]
    }
   ],
   "source": [
    "print(a.itemsize) #this will give the size of the elements in the array. it will give the size of the elements in the array. it will give the size in bytes."
   ]
  },
  {
   "cell_type": "code",
   "execution_count": 8,
   "metadata": {},
   "outputs": [
    {
     "name": "stdout",
     "output_type": "stream",
     "text": [
      "4\n"
     ]
    }
   ],
   "source": [
    "print(a[0]) #this will give the element at 0th index."
   ]
  },
  {
   "cell_type": "code",
   "execution_count": 9,
   "metadata": {},
   "outputs": [],
   "source": [
    "a[0]=11 #this will change the element at 0th index to 11."
   ]
  },
  {
   "cell_type": "code",
   "execution_count": 10,
   "metadata": {},
   "outputs": [
    {
     "name": "stdout",
     "output_type": "stream",
     "text": [
      "[11  5  6]\n"
     ]
    }
   ],
   "source": [
    "print(a)"
   ]
  },
  {
   "cell_type": "code",
   "execution_count": 11,
   "metadata": {},
   "outputs": [
    {
     "name": "stdout",
     "output_type": "stream",
     "text": [
      "[11  0  6]\n"
     ]
    }
   ],
   "source": [
    "b = a * np.array([1,0,1])  #this will multiply the array a with the array [1,0,1] element wise.\n",
    "\n",
    "print(b) #this will print the array b."
   ]
  },
  {
   "cell_type": "code",
   "execution_count": 12,
   "metadata": {},
   "outputs": [],
   "source": [
    "l = [1,2,3] #this will create a list l.\n",
    "a= np.array([1,2,3])\n",
    "\n",
    "\n",
    "#if we apply append here it will append the element at the end of the list, but append will not work in numpy array."
   ]
  },
  {
   "cell_type": "code",
   "execution_count": 13,
   "metadata": {},
   "outputs": [
    {
     "name": "stdout",
     "output_type": "stream",
     "text": [
      "[1, 2, 3, 4]\n",
      "[5 6 7]\n"
     ]
    }
   ],
   "source": [
    "l= l+[4] #this will append 4 at the end of the list l.\n",
    "print(l) \n",
    "\n",
    "a=a+np.array([4]) #this will add 4 to each element of the array a. broadcasting is happening here.\n",
    "print(a)\n",
    "\n",
    "#a=a+np.array([4,4,4]) # this will also give the same result as above when only one 4 is given. numpy is intelligent enough to understand the broadcasting."
   ]
  },
  {
   "cell_type": "code",
   "execution_count": 14,
   "metadata": {},
   "outputs": [
    {
     "name": "stdout",
     "output_type": "stream",
     "text": [
      "[1, 2, 3, 4, 1, 2, 3, 4]\n",
      "[10 12 14]\n"
     ]
    }
   ],
   "source": [
    "l = l*2 #this will multiply the list l by 2. it will repeat the list l 2 times.\n",
    "print(l)\n",
    "\n",
    "a=a * 2 #this will multiply the array a by 2. it will multiply each element of the array by 2.\n",
    "print(a)"
   ]
  },
  {
   "cell_type": "code",
   "execution_count": 15,
   "metadata": {},
   "outputs": [
    {
     "name": "stdout",
     "output_type": "stream",
     "text": [
      "[3.16227766 3.46410162 3.74165739]\n"
     ]
    }
   ],
   "source": [
    "a = np.sqrt(a) #this will take the square root of each element of the array a.\n",
    "print(a)\n",
    "\n",
    "#this will keep the size of the array same. it will not change the size of the array."
   ]
  },
  {
   "cell_type": "code",
   "execution_count": 16,
   "metadata": {},
   "outputs": [
    {
     "name": "stdout",
     "output_type": "stream",
     "text": [
      "[1.15129255 1.24245332 1.31952866]\n"
     ]
    }
   ],
   "source": [
    "a= np.log(a) #this will take the log of each element of the array a.\n",
    "print(a)\n",
    "\n",
    "# it will not change the size of the array."
   ]
  },
  {
   "cell_type": "markdown",
   "metadata": {},
   "source": [
    "#### Dot product using `np.dot() ` method."
   ]
  },
  {
   "cell_type": "markdown",
   "metadata": {},
   "source": [
    "<p>dot product is the sum of the product of the corresponding elements of the two arrays.</p>"
   ]
  },
  {
   "cell_type": "markdown",
   "metadata": {},
   "source": [
    "#### dot product in _lists_.👇"
   ]
  },
  {
   "cell_type": "code",
   "execution_count": 17,
   "metadata": {},
   "outputs": [
    {
     "name": "stdout",
     "output_type": "stream",
     "text": [
      "32\n"
     ]
    }
   ],
   "source": [
    "\n",
    "\n",
    "l1 = [1,2,3] #this will create a list l1.\n",
    "l2 = [4,5,6] #this will create a list l2.\n",
    "\n",
    "\n",
    "\n",
    "#dot product\n",
    "dot = 0\n",
    "\n",
    "for i in range (len(l1)):\n",
    "    dot+= l1[i]*l2[i]\n",
    "print(dot)"
   ]
  },
  {
   "cell_type": "markdown",
   "metadata": {},
   "source": [
    "#### dot product in _arrays_"
   ]
  },
  {
   "cell_type": "code",
   "execution_count": 18,
   "metadata": {},
   "outputs": [
    {
     "name": "stdout",
     "output_type": "stream",
     "text": [
      "32\n"
     ]
    }
   ],
   "source": [
    "#\n",
    "\n",
    "\n",
    "a1 = np.array(l1) #this will create an array a1 from the list l1.\n",
    "a2 = np. array(l2) #this will create an array a2 from the list l2.\n",
    "\n",
    "dot = np.dot(a1,a2) #this will give the dot product of the arrays a1 and a2.\n",
    "print(dot)"
   ]
  },
  {
   "cell_type": "code",
   "execution_count": 19,
   "metadata": {},
   "outputs": [
    {
     "name": "stdout",
     "output_type": "stream",
     "text": [
      "32\n"
     ]
    }
   ],
   "source": [
    "sum1 = a1*a2 #this will give the element wise product of the arrays a1 and a2.\n",
    "dot = (sum1).sum() #this will give the sum of the elements of the array dot.\n",
    "print(dot)"
   ]
  },
  {
   "cell_type": "markdown",
   "metadata": {},
   "source": [
    "#### Dot product using `@` sign."
   ]
  },
  {
   "cell_type": "code",
   "execution_count": 20,
   "metadata": {},
   "outputs": [
    {
     "name": "stdout",
     "output_type": "stream",
     "text": [
      "32\n"
     ]
    }
   ],
   "source": [
    "dot = a1 @ a2 #this will give the dot product of the arrays a1 and a2.\n",
    "print(dot) "
   ]
  },
  {
   "cell_type": "markdown",
   "metadata": {},
   "source": [
    "### Multidimensional (nd) arrays:- \n"
   ]
  },
  {
   "cell_type": "code",
   "execution_count": 21,
   "metadata": {},
   "outputs": [
    {
     "name": "stdout",
     "output_type": "stream",
     "text": [
      "[[1 2]\n",
      " [4 5]]\n"
     ]
    }
   ],
   "source": [
    "a = np.array([[1,2],[4,5]]) #this will create a 2D array a. notice the number of square brackets.\n",
    "print(a)\n"
   ]
  },
  {
   "cell_type": "code",
   "execution_count": 22,
   "metadata": {},
   "outputs": [
    {
     "name": "stdout",
     "output_type": "stream",
     "text": [
      "(2, 2)\n"
     ]
    }
   ],
   "source": [
    "print(a.shape) #this will give the shape of the array a. it will give the number of rows and columns in the array. it will give the value in tuple."
   ]
  },
  {
   "cell_type": "code",
   "execution_count": 23,
   "metadata": {},
   "outputs": [
    {
     "name": "stdout",
     "output_type": "stream",
     "text": [
      "[1 2]\n"
     ]
    }
   ],
   "source": [
    "print(a[0])"
   ]
  },
  {
   "cell_type": "code",
   "execution_count": 24,
   "metadata": {},
   "outputs": [
    {
     "name": "stdout",
     "output_type": "stream",
     "text": [
      "2\n"
     ]
    }
   ],
   "source": [
    "print(a[0][1])"
   ]
  },
  {
   "cell_type": "code",
   "execution_count": 25,
   "metadata": {},
   "outputs": [
    {
     "name": "stdout",
     "output_type": "stream",
     "text": [
      "2\n"
     ]
    }
   ],
   "source": [
    "#we can also write the previous two lines in the following way and get the same result.\n",
    "print(a[0,1])"
   ]
  },
  {
   "cell_type": "markdown",
   "metadata": {},
   "source": [
    "### _slicing in 2D array_.\n",
    "\n",
    "<p>this means we can get the sub array from the array.\n",
    "slicing has in the format [start:stop:step]\n",
    "\n",
    "slicing has the foramt [start:stop:step]. if we don't give the start, stop and step, it will take the default values. default values are start=0, stop=last element, step=1.\n",
    " </p>\n",
    "\n"
   ]
  },
  {
   "cell_type": "code",
   "execution_count": 26,
   "metadata": {},
   "outputs": [
    {
     "name": "stdout",
     "output_type": "stream",
     "text": [
      "2\n",
      "[1]\n"
     ]
    }
   ],
   "source": [
    "b = a[0,1] #this will give the element at 0th row and 1st column.this is how indexing is done in numpy. indexing starts from 0. -1 is the last element.\n",
    "print(b)\n",
    "\n",
    "c= a[0,:1] #this works as slicing. it will give the 0th row and all the columns. blank space before and after : means all the elements.\n",
    "print(c)"
   ]
  },
  {
   "cell_type": "code",
   "execution_count": 27,
   "metadata": {},
   "outputs": [
    {
     "name": "stdout",
     "output_type": "stream",
     "text": [
      "[[1 4]\n",
      " [2 5]]\n"
     ]
    }
   ],
   "source": [
    "print(a.T) #this will give the transpose of the array a."
   ]
  },
  {
   "cell_type": "code",
   "execution_count": 28,
   "metadata": {},
   "outputs": [
    {
     "name": "stdout",
     "output_type": "stream",
     "text": [
      "(2, 2)\n"
     ]
    }
   ],
   "source": [
    "print(a.T.shape) #this will give the shape of the transpose of the array a."
   ]
  },
  {
   "cell_type": "code",
   "execution_count": 29,
   "metadata": {},
   "outputs": [
    {
     "name": "stdout",
     "output_type": "stream",
     "text": [
      "[[-1.66666667  0.66666667]\n",
      " [ 1.33333333 -0.33333333]]\n",
      "[[1 2]\n",
      " [4 5]]\n"
     ]
    }
   ],
   "source": [
    "print(np.linalg.inv(a)) #this will give the inverse of the array a.\n",
    "print(a)"
   ]
  },
  {
   "cell_type": "code",
   "execution_count": 30,
   "metadata": {},
   "outputs": [
    {
     "name": "stdout",
     "output_type": "stream",
     "text": [
      "-2.9999999999999996\n",
      "[[1 2]\n",
      " [4 5]]\n"
     ]
    }
   ],
   "source": [
    "print(np.linalg.det(a)) #this will give the determinant of the array a.\n",
    "print(a)"
   ]
  },
  {
   "cell_type": "code",
   "execution_count": 31,
   "metadata": {},
   "outputs": [
    {
     "name": "stdout",
     "output_type": "stream",
     "text": [
      "[1 5]\n"
     ]
    }
   ],
   "source": [
    "print(np.diag(a)) #this will give the diagonal of the array a. it will give the diagonal elements in the form of an array."
   ]
  },
  {
   "cell_type": "markdown",
   "metadata": {},
   "source": [
    "### boolean indexing"
   ]
  },
  {
   "cell_type": "markdown",
   "metadata": {},
   "source": [
    "##### traditional boolean indexing"
   ]
  },
  {
   "cell_type": "code",
   "execution_count": 32,
   "metadata": {},
   "outputs": [
    {
     "name": "stdout",
     "output_type": "stream",
     "text": [
      "[[1 2]\n",
      " [3 4]\n",
      " [5 6]]\n",
      "[[False False]\n",
      " [ True  True]\n",
      " [ True  True]]\n",
      "[3 4 5 6]\n"
     ]
    }
   ],
   "source": [
    "bi = np.array([[1,2],[3,4],[5,6]])\n",
    "print(bi)\n",
    "\n",
    "bool_idx = (bi>2) #this will give the boolean array. it will give True if the element is greater than 2 and False if the element is less than or equal to 2.\n",
    "print(bool_idx)\n",
    "\n",
    "print(bi[bool_idx]) #this will give the elements of the array a which are greater than 2."
   ]
  },
  {
   "cell_type": "code",
   "execution_count": 33,
   "metadata": {},
   "outputs": [
    {
     "name": "stdout",
     "output_type": "stream",
     "text": [
      "[3 4 5 6]\n"
     ]
    }
   ],
   "source": [
    "#we can also write the above two lines in the following way and get the same result.\n",
    "print(bi[bi>2])  #this will give the elements of the array a which are greater than 2. "
   ]
  },
  {
   "cell_type": "code",
   "execution_count": 34,
   "metadata": {},
   "outputs": [
    {
     "name": "stdout",
     "output_type": "stream",
     "text": [
      "[[404 404]\n",
      " [  3   4]\n",
      " [  5   6]]\n"
     ]
    }
   ],
   "source": [
    "w= np.where(bi>2, bi, 404) #this will give the elements of the array bi which are greater than 2. if the element is less than or equal to 2, it will give 404.\n",
    "#if we breakdown the syntax of where function, it is where(condition to be checked, value to be returned if the condition is true, value to be returned if the condition is false).\n",
    "print(w)"
   ]
  },
  {
   "cell_type": "markdown",
   "metadata": {},
   "source": [
    "__fancy indexing__\n",
    "##### fancy indexing is used when we want to select the elements of the array at the indexes we want.\n",
    "\n",
    "- we can pass the indexes in the form of a list and will get the elements at those indexes. \n",
    "- we can also pass the indexes in the form of a boolean array and will get the elements at the indexes where the boolean array is True.\n",
    "- we can also pass the indexes in the form of a 2D array and  will get the elements at the indexes of the 2D array."
   ]
  },
  {
   "cell_type": "code",
   "execution_count": 35,
   "metadata": {},
   "outputs": [
    {
     "name": "stdout",
     "output_type": "stream",
     "text": [
      "[34 76 98]\n"
     ]
    }
   ],
   "source": [
    "a = np.array([12,34,54,18,76,98])\n",
    "b = [1,4,5]\n",
    "\n",
    "print(a[b]) #this will give the elements of the array a at the indexes 1,4 and 5."
   ]
  },
  {
   "cell_type": "code",
   "execution_count": 36,
   "metadata": {},
   "outputs": [
    {
     "name": "stdout",
     "output_type": "stream",
     "text": [
      "[0 1 2 3 4 5]\n",
      "[12 34 54 18 76 98]\n"
     ]
    }
   ],
   "source": [
    "a = np.array([12,34,54,18,76,98])\n",
    "\n",
    "\n",
    "even = np.argwhere(a%2==0).flatten() #this will give the indexes of the elements of the array a which are even. flatten will convert the 2D array to 1D array.\n",
    "print(even)\n",
    "print(a[even])"
   ]
  },
  {
   "cell_type": "markdown",
   "metadata": {},
   "source": [
    "### Reshaping\n",
    "\n",
    "- reshaping  is used when we want to change the shape of the array. \n",
    "- it is used to change the shape of the array without changing the data of the array.\n",
    "- it is used when our model requires the data to be shaped in a particular way and \n",
    "- it is used to change the shape of the array without changing the data of the array."
   ]
  },
  {
   "cell_type": "code",
   "execution_count": 37,
   "metadata": {},
   "outputs": [
    {
     "name": "stdout",
     "output_type": "stream",
     "text": [
      "[2 3 4 5 6 7]\n",
      "(6,)\n",
      "[[2 3 4]\n",
      " [5 6 7]]\n"
     ]
    }
   ],
   "source": [
    "y= np.arange(2,8) #this will give the array of elements from 2 to 8. format of arange function is arange(start, stop, step).\n",
    "print(y)\n",
    "print(y.shape)\n",
    "\n",
    "z= y.reshape(2,3) #this will reshape the array y to 2 rows and 3 columns. but this will show error if the number of elements in the array and the number of elements in the reshape function are not equal.\n",
    "print(z)"
   ]
  },
  {
   "cell_type": "code",
   "execution_count": 38,
   "metadata": {},
   "outputs": [
    {
     "name": "stdout",
     "output_type": "stream",
     "text": [
      "(1, 6)\n",
      "(6, 1)\n"
     ]
    }
   ],
   "source": [
    "# new axis is used when our model requires the data to be shaped in a particular way. it is used to increase the dimension of the array.\n",
    "# add new axis to the end of the array\n",
    "\n",
    "a = np.array([1,2,3,4,5,6]) \n",
    "\n",
    "b = a[np.newaxis, :] #this will add a new axis at the beginning of the array a. it will convert the 1D array to 2D array.\n",
    "# lets breakdown how the newaxis works. if we have a 1D array of 6 elements, then the shape of the array will be (6,). if we add a new axis at the beginning of the array, then the shape of the array will be (1,6).\n",
    "print(b.shape)\n",
    "\n",
    "\n",
    "\n",
    "# we can also do that in the following way.\n",
    "b=a[: ,np.newaxis]\n",
    "print(b.shape)"
   ]
  },
  {
   "cell_type": "markdown",
   "metadata": {},
   "source": [
    "### Concatenating arrays using `np.concatenate()` method"
   ]
  },
  {
   "cell_type": "code",
   "execution_count": 39,
   "metadata": {},
   "outputs": [
    {
     "name": "stdout",
     "output_type": "stream",
     "text": [
      "[[1 2]\n",
      " [5 6]\n",
      " [7 8]]\n"
     ]
    }
   ],
   "source": [
    "f = np.array([[1,2],[5,6]])\n",
    "g = np.array([[7,8]])\n",
    "\n",
    "h = np.concatenate((f,g)) #this will concatenate the arrays f and g. it will concatenate the arrays row wise. \n",
    "print(h)\n",
    "\n",
    "\n"
   ]
  },
  {
   "cell_type": "code",
   "execution_count": 40,
   "metadata": {},
   "outputs": [
    {
     "name": "stdout",
     "output_type": "stream",
     "text": [
      "[1 2 5 6 7 8]\n"
     ]
    }
   ],
   "source": [
    "i = np.concatenate((f,g),axis = None)  # with axis = None it will flatten the array. it will concatenate the arrays column wise. and it will give the 1D array.\n",
    "print(i)"
   ]
  },
  {
   "cell_type": "code",
   "execution_count": 41,
   "metadata": {},
   "outputs": [
    {
     "name": "stdout",
     "output_type": "stream",
     "text": [
      "[[1 2]\n",
      " [5 6]\n",
      " [7 8]]\n"
     ]
    }
   ],
   "source": [
    "j = np.concatenate((f,g),axis = 0) #this will concatenate the arrays f and g. it will concatenate the arrays row wise. axis = 0 is default. \n",
    "print(j)\n",
    "\n",
    "#axis = 0 means row wise concatenation. and it axis =1 means column wise concatenation."
   ]
  },
  {
   "cell_type": "code",
   "execution_count": 42,
   "metadata": {},
   "outputs": [
    {
     "name": "stdout",
     "output_type": "stream",
     "text": [
      "[[1 2 7]\n",
      " [5 6 8]]\n"
     ]
    }
   ],
   "source": [
    "k=np.concatenate((f,g.T), axis = 1) #this will concatenate the arrays f and g. it will concatenate the arrays column wise. )\n",
    "print(k)"
   ]
  },
  {
   "cell_type": "markdown",
   "metadata": {},
   "source": [
    "#### Concatenating arrays using `np.hstack()` and `np.vstack()` methods\n",
    "\n",
    "`np.hstack()` concatenates the array horizontally (_row wise_) <br>\n",
    "`np.vstack()` concatenates the array vertically (_column wise_) <br>\n",
    " "
   ]
  },
  {
   "cell_type": "code",
   "execution_count": 43,
   "metadata": {},
   "outputs": [
    {
     "name": "stdout",
     "output_type": "stream",
     "text": [
      "[1 2 3 4]\n",
      "[[1 2]\n",
      " [3 4]]\n"
     ]
    }
   ],
   "source": [
    "#applying np.hstack and np.vstack in 1 D array will give the same result as np.concatenate. difference is that hstack and vstack are used for 2D arrays.\n",
    "\n",
    "\n",
    "a1 = np.array([1,2])\n",
    "a2 = np.array([3,4])\n",
    "\n",
    "\n",
    "a3 = np.hstack((a1,a2))  #this will concatenate the arrays a1 and a2. it will concatenate the arrays row wise.\n",
    "print(a3)\n",
    "\n",
    "a4 = np.vstack((a1,a2)) #this will concatenate the arrays a1 and a2. it will concatenate the arrays column wise.\n",
    "print(a4)"
   ]
  },
  {
   "cell_type": "code",
   "execution_count": 44,
   "metadata": {},
   "outputs": [
    {
     "data": {
      "text/plain": [
       "array([[ 3,  5,  5],\n",
       "       [ 6,  8,  8],\n",
       "       [ 9, 11, 11]])"
      ]
     },
     "execution_count": 44,
     "metadata": {},
     "output_type": "execute_result"
    }
   ],
   "source": [
    "#broadcasting is a powerful mechanism that allows numpy to work with arrays of different shapes when performing arithmetic operations. frequently we have a smaller array and a larger array, and we want to use the smaller array multiple times to perform some operation on the larger array.\n",
    "\n",
    "\n",
    "b1 = np.array([[1,2,3],[4,5,6],[7,8,9]]) \n",
    "b2 = np.array([2,3,2]) #numpy is intelligent enough to understand the broadcasting. it will add the array b2 to each row of the array b1. and we need not to write three arrays in b2 to get the result.\n",
    "\n",
    "\n",
    "b3 = b1+b2 #this will add the array b2 to each row of the array b1. broadcasting is happening here. \n",
    "b3"
   ]
  },
  {
   "cell_type": "code",
   "execution_count": 45,
   "metadata": {},
   "outputs": [
    {
     "data": {
      "text/plain": [
       "array([4, 5, 4])"
      ]
     },
     "execution_count": 45,
     "metadata": {},
     "output_type": "execute_result"
    }
   ],
   "source": [
    "b4 = b2 +  2\n",
    "b4"
   ]
  },
  {
   "cell_type": "code",
   "execution_count": 46,
   "metadata": {},
   "outputs": [
    {
     "data": {
      "text/plain": [
       "array([-4, -3, -4])"
      ]
     },
     "execution_count": 46,
     "metadata": {},
     "output_type": "execute_result"
    }
   ],
   "source": [
    "b5 = b4 - 8\n",
    "b5"
   ]
  },
  {
   "cell_type": "code",
   "execution_count": 47,
   "metadata": {},
   "outputs": [
    {
     "data": {
      "text/plain": [
       "array([-8, -6, -8])"
      ]
     },
     "execution_count": 47,
     "metadata": {},
     "output_type": "execute_result"
    }
   ],
   "source": [
    "b6 = b5 * 2\n",
    "b6"
   ]
  },
  {
   "cell_type": "markdown",
   "metadata": {},
   "source": [
    "#### Using `.sum()` function in numpy"
   ]
  },
  {
   "cell_type": "code",
   "execution_count": 48,
   "metadata": {},
   "outputs": [
    {
     "data": {
      "text/plain": [
       "array([[1, 2, 3],\n",
       "       [4, 5, 6],\n",
       "       [7, 8, 9]])"
      ]
     },
     "execution_count": 48,
     "metadata": {},
     "output_type": "execute_result"
    }
   ],
   "source": [
    "b1"
   ]
  },
  {
   "cell_type": "code",
   "execution_count": 49,
   "metadata": {},
   "outputs": [
    {
     "name": "stdout",
     "output_type": "stream",
     "text": [
      "45\n",
      "45\n"
     ]
    }
   ],
   "source": [
    "print(b1.sum())\n",
    "print(b1.sum(axis = None))  #this will give the sum of all the elements of the array b1. axis = None is default.\n",
    " "
   ]
  },
  {
   "cell_type": "code",
   "execution_count": 50,
   "metadata": {},
   "outputs": [
    {
     "name": "stdout",
     "output_type": "stream",
     "text": [
      "[12 15 18]\n",
      "[12 15 18]\n"
     ]
    }
   ],
   "source": [
    "print(b1.sum(axis = 0)) #this will give the sum of the elements of the array b1 column wise.\n",
    "print(b1.sum(0))"
   ]
  },
  {
   "cell_type": "code",
   "execution_count": 51,
   "metadata": {},
   "outputs": [
    {
     "name": "stdout",
     "output_type": "stream",
     "text": [
      "[ 6 15 24]\n",
      "[ 6 15 24]\n"
     ]
    }
   ],
   "source": [
    "print(b1.sum(axis = 1)) #this will give the sum of the elements of the array b1 row wise.\n",
    "print(b1.sum(1))"
   ]
  },
  {
   "cell_type": "markdown",
   "metadata": {},
   "source": [
    "#### Using `.mean()` function in numpy\n"
   ]
  },
  {
   "cell_type": "code",
   "execution_count": 52,
   "metadata": {},
   "outputs": [
    {
     "name": "stdout",
     "output_type": "stream",
     "text": [
      "5.0\n",
      "5.0\n"
     ]
    }
   ],
   "source": [
    "print(b1.mean()) #this will give the mean of all the elements of the array b1.\n",
    "print(b1.mean(axis = None)) "
   ]
  },
  {
   "cell_type": "code",
   "execution_count": 53,
   "metadata": {},
   "outputs": [
    {
     "name": "stdout",
     "output_type": "stream",
     "text": [
      "[4. 5. 6.]\n",
      "[4. 5. 6.]\n"
     ]
    }
   ],
   "source": [
    "print(b1.mean(0))\n",
    "print(b1.mean(axis = 0)) #this will give the mean of the elements of the array b1 column wise."
   ]
  },
  {
   "cell_type": "code",
   "execution_count": 54,
   "metadata": {},
   "outputs": [
    {
     "name": "stdout",
     "output_type": "stream",
     "text": [
      "[2. 5. 8.]\n",
      "[2. 5. 8.]\n"
     ]
    }
   ],
   "source": [
    "print(b1.mean(1))\n",
    "print(b1.mean(axis=1)) #this will give the mean of the elements of the array b1 row wise."
   ]
  },
  {
   "cell_type": "markdown",
   "metadata": {},
   "source": [
    "Some more data science function var, std, min , max, "
   ]
  },
  {
   "cell_type": "code",
   "execution_count": 55,
   "metadata": {},
   "outputs": [
    {
     "name": "stdout",
     "output_type": "stream",
     "text": [
      "6.666666666666667\n"
     ]
    }
   ],
   "source": [
    "print(b1.var(axis = None))"
   ]
  },
  {
   "cell_type": "code",
   "execution_count": 56,
   "metadata": {},
   "outputs": [
    {
     "name": "stdout",
     "output_type": "stream",
     "text": [
      "2.581988897471611\n",
      "2.581988897471611\n"
     ]
    }
   ],
   "source": [
    "print(b1.std(axis = None))\n",
    "print(np.std(b1,axis = None))"
   ]
  },
  {
   "cell_type": "code",
   "execution_count": 57,
   "metadata": {},
   "outputs": [
    {
     "name": "stdout",
     "output_type": "stream",
     "text": [
      "1\n",
      "1\n"
     ]
    }
   ],
   "source": [
    "print(b1.min(axis = None))\n",
    "print(np.min(b1,axis=None))"
   ]
  },
  {
   "cell_type": "code",
   "execution_count": 58,
   "metadata": {},
   "outputs": [
    {
     "name": "stdout",
     "output_type": "stream",
     "text": [
      "9\n",
      "9\n"
     ]
    }
   ],
   "source": [
    "print(b1.max(axis = None))\n",
    "print(np.max(b1,axis= None))"
   ]
  },
  {
   "cell_type": "markdown",
   "metadata": {},
   "source": [
    "##### Datatypes"
   ]
  },
  {
   "cell_type": "code",
   "execution_count": 59,
   "metadata": {},
   "outputs": [
    {
     "name": "stdout",
     "output_type": "stream",
     "text": [
      "int32\n"
     ]
    }
   ],
   "source": [
    "c1 = np.array([[1,2],[3,4]])\n",
    "print(c1.dtype)"
   ]
  },
  {
   "cell_type": "code",
   "execution_count": 60,
   "metadata": {},
   "outputs": [
    {
     "name": "stdout",
     "output_type": "stream",
     "text": [
      "float64\n"
     ]
    }
   ],
   "source": [
    "c2 = np.array([[1.1,2.0],[3.3,4.0]])\n",
    "print(c2.dtype)"
   ]
  },
  {
   "cell_type": "code",
   "execution_count": 61,
   "metadata": {},
   "outputs": [
    {
     "name": "stdout",
     "output_type": "stream",
     "text": [
      "float64\n"
     ]
    }
   ],
   "source": [
    "c3 = c1 + c2\n",
    "print(c3.dtype)"
   ]
  },
  {
   "cell_type": "code",
   "execution_count": 62,
   "metadata": {},
   "outputs": [
    {
     "name": "stdout",
     "output_type": "stream",
     "text": [
      "float64\n"
     ]
    },
    {
     "data": {
      "text/plain": [
       "array([1., 2., 3.])"
      ]
     },
     "execution_count": 62,
     "metadata": {},
     "output_type": "execute_result"
    }
   ],
   "source": [
    "c4 = np.array([1,2,3], dtype=np.float64)\n",
    "print(c4.dtype)\n",
    "c4"
   ]
  },
  {
   "cell_type": "markdown",
   "metadata": {},
   "source": [
    "#### Copying Arrays"
   ]
  },
  {
   "cell_type": "code",
   "execution_count": 63,
   "metadata": {},
   "outputs": [
    {
     "data": {
      "text/plain": [
       "array([100,   2,   3,   4,   5,   6])"
      ]
     },
     "execution_count": 63,
     "metadata": {},
     "output_type": "execute_result"
    }
   ],
   "source": [
    "z1 = np.array([1,2,3,4,5,6])\n",
    "z2 = z1\n",
    "z2[0] = 100\n",
    "z2"
   ]
  },
  {
   "cell_type": "code",
   "execution_count": 64,
   "metadata": {},
   "outputs": [
    {
     "data": {
      "text/plain": [
       "array([100,   2,   3,   4,   5,   6])"
      ]
     },
     "execution_count": 64,
     "metadata": {},
     "output_type": "execute_result"
    }
   ],
   "source": [
    "#we have changed only the value of z2 but the value of z1 has also changed. \n",
    "#this is because z1 and z2 are pointing to the same memory location. \n",
    "#so if we change the value of z2, the value of z1 will also change. reference is being passed here.\n",
    "#to avoid this we can use the copy function.\n",
    "\n",
    "z1"
   ]
  },
  {
   "cell_type": "markdown",
   "metadata": {},
   "source": [
    "#### Using `.copy()` method"
   ]
  },
  {
   "cell_type": "code",
   "execution_count": 65,
   "metadata": {},
   "outputs": [
    {
     "name": "stdout",
     "output_type": "stream",
     "text": [
      "[100   6   7   8   9  10]\n",
      "[ 5  6  7  8  9 10]\n"
     ]
    }
   ],
   "source": [
    "# if we want an actual copy, we have to use the .copy() method.\n",
    "\n",
    "z4 = np.array([5,6,7,8,9,10])\n",
    "z3 = z4.copy()\n",
    "z3[0] = 100\n",
    "\n",
    "print(z3)\n",
    "print(z4)"
   ]
  },
  {
   "cell_type": "markdown",
   "metadata": {},
   "source": [
    "#### Generating Arrays"
   ]
  },
  {
   "cell_type": "markdown",
   "metadata": {},
   "source": [
    "#### Using `.zeros()` method"
   ]
  },
  {
   "cell_type": "code",
   "execution_count": 66,
   "metadata": {},
   "outputs": [
    {
     "data": {
      "text/plain": [
       "array([[0., 0., 0.],\n",
       "       [0., 0., 0.]])"
      ]
     },
     "execution_count": 66,
     "metadata": {},
     "output_type": "execute_result"
    }
   ],
   "source": [
    "g1 = np.zeros((2,3)) #this will create a 2D array of 2 rows and 3 columns with all the elements as 0.\n",
    "g1"
   ]
  },
  {
   "cell_type": "markdown",
   "metadata": {},
   "source": [
    "#### Using `.ones()` method"
   ]
  },
  {
   "cell_type": "code",
   "execution_count": 67,
   "metadata": {},
   "outputs": [
    {
     "data": {
      "text/plain": [
       "array([[1., 1., 1.],\n",
       "       [1., 1., 1.]])"
      ]
     },
     "execution_count": 67,
     "metadata": {},
     "output_type": "execute_result"
    }
   ],
   "source": [
    "g2 = np.ones((2,3)) #this will create a 2D array of 2 rows and 3 columns with all the elements as 1.\n",
    "g2"
   ]
  },
  {
   "cell_type": "markdown",
   "metadata": {},
   "source": [
    "#### Using `.full()` method"
   ]
  },
  {
   "cell_type": "code",
   "execution_count": 68,
   "metadata": {},
   "outputs": [
    {
     "data": {
      "text/plain": [
       "array([[7, 7, 7],\n",
       "       [7, 7, 7]])"
      ]
     },
     "execution_count": 68,
     "metadata": {},
     "output_type": "execute_result"
    }
   ],
   "source": [
    "g3 = np.full((2,3), 7) #this will create a 2D array of 2 rows and 3 columns with all the elements as 7.\n",
    "g3"
   ]
  },
  {
   "cell_type": "markdown",
   "metadata": {},
   "source": [
    "#### Using `.eye()` method"
   ]
  },
  {
   "cell_type": "code",
   "execution_count": 69,
   "metadata": {},
   "outputs": [
    {
     "data": {
      "text/plain": [
       "array([[1., 0., 0., 0., 0., 0., 0., 0., 0., 0., 0., 0.],\n",
       "       [0., 1., 0., 0., 0., 0., 0., 0., 0., 0., 0., 0.],\n",
       "       [0., 0., 1., 0., 0., 0., 0., 0., 0., 0., 0., 0.],\n",
       "       [0., 0., 0., 1., 0., 0., 0., 0., 0., 0., 0., 0.],\n",
       "       [0., 0., 0., 0., 1., 0., 0., 0., 0., 0., 0., 0.],\n",
       "       [0., 0., 0., 0., 0., 1., 0., 0., 0., 0., 0., 0.],\n",
       "       [0., 0., 0., 0., 0., 0., 1., 0., 0., 0., 0., 0.],\n",
       "       [0., 0., 0., 0., 0., 0., 0., 1., 0., 0., 0., 0.],\n",
       "       [0., 0., 0., 0., 0., 0., 0., 0., 1., 0., 0., 0.],\n",
       "       [0., 0., 0., 0., 0., 0., 0., 0., 0., 1., 0., 0.],\n",
       "       [0., 0., 0., 0., 0., 0., 0., 0., 0., 0., 1., 0.],\n",
       "       [0., 0., 0., 0., 0., 0., 0., 0., 0., 0., 0., 1.]])"
      ]
     },
     "execution_count": 69,
     "metadata": {},
     "output_type": "execute_result"
    }
   ],
   "source": [
    "g4 = np.eye(12) #this will create a 2D array of 12 rows and 12 columns with diagonal elements as 1 and rest of the elements as 0.\n",
    "g4"
   ]
  },
  {
   "cell_type": "markdown",
   "metadata": {},
   "source": [
    "#### Using `.arange()` method"
   ]
  },
  {
   "cell_type": "code",
   "execution_count": 70,
   "metadata": {},
   "outputs": [
    {
     "data": {
      "text/plain": [
       "array([ 0,  1,  2,  3,  4,  5,  6,  7,  8,  9, 10, 11])"
      ]
     },
     "execution_count": 70,
     "metadata": {},
     "output_type": "execute_result"
    }
   ],
   "source": [
    "g5 = np.arange(12) #this will create a 1D array of elements from 0 to 11.\n",
    "g5"
   ]
  },
  {
   "cell_type": "markdown",
   "metadata": {},
   "source": [
    "#### Using `.linspace()`  method"
   ]
  },
  {
   "cell_type": "code",
   "execution_count": 71,
   "metadata": {},
   "outputs": [
    {
     "data": {
      "text/plain": [
       "array([ 1.  ,  3.25,  5.5 ,  7.75, 10.  ])"
      ]
     },
     "execution_count": 71,
     "metadata": {},
     "output_type": "execute_result"
    }
   ],
   "source": [
    "g6 = np.linspace(1,10,5) #this will create an array of 5 elements from 1 to 10. it will divide the range 1 to 10 into 5 equal parts.\n",
    "g6"
   ]
  },
  {
   "cell_type": "markdown",
   "metadata": {},
   "source": [
    "#### Random Numbers"
   ]
  },
  {
   "cell_type": "code",
   "execution_count": 72,
   "metadata": {},
   "outputs": [
    {
     "data": {
      "text/plain": [
       "array([[0.08317229, 0.93935326, 0.75474849],\n",
       "       [0.77680737, 0.11769758, 0.78537928]])"
      ]
     },
     "execution_count": 72,
     "metadata": {},
     "output_type": "execute_result"
    }
   ],
   "source": [
    "r1 = np.random.random((2,3)) #this will create a 2D array of 2 rows and 3 columns with random elements between 0 and 1.\n",
    "r1"
   ]
  },
  {
   "cell_type": "code",
   "execution_count": 73,
   "metadata": {},
   "outputs": [
    {
     "data": {
      "text/plain": [
       "array([[9, 7, 4],\n",
       "       [1, 3, 8]])"
      ]
     },
     "execution_count": 73,
     "metadata": {},
     "output_type": "execute_result"
    }
   ],
   "source": [
    "r2 = np.random.randint(1,10, (2,3)) #this will create a 2D array of 2 rows and 3 columns with random elements between 1 and 10.\n",
    "r2"
   ]
  },
  {
   "cell_type": "code",
   "execution_count": 74,
   "metadata": {},
   "outputs": [
    {
     "name": "stdout",
     "output_type": "stream",
     "text": [
      "[[0 1 2]\n",
      " [4 3 4]\n",
      " [3 3 3]]\n"
     ]
    }
   ],
   "source": [
    "r4 = np.random.randint(5, size =(3,3)) #this will create a 2D array of 2 rows and 3 columns with random elements between 0 and 10. if not given two numbers, it will take the first number as 0.\n",
    "print(r4)"
   ]
  },
  {
   "cell_type": "code",
   "execution_count": 75,
   "metadata": {},
   "outputs": [
    {
     "data": {
      "text/plain": [
       "array([[-0.13973147, -0.42559521, -0.88380608],\n",
       "       [ 0.53975022, -0.79473302,  0.51316182]])"
      ]
     },
     "execution_count": 75,
     "metadata": {},
     "output_type": "execute_result"
    }
   ],
   "source": [
    "r3 = np.random.randn(2,3) #this will create a 2D array of 2 rows and 3 columns with random elements from standard normal distribution.\n",
    "r3\n",
    "#print(a.mean(), a.var())"
   ]
  },
  {
   "cell_type": "code",
   "execution_count": 76,
   "metadata": {},
   "outputs": [
    {
     "name": "stdout",
     "output_type": "stream",
     "text": [
      "0.1414949727377623 1.007166589904994\n"
     ]
    }
   ],
   "source": [
    "r5 = np.random.randn (500)\n",
    "print(r5.mean(), r5.var()) #mean and variance of array r is close to 0 and 1 respectively because the random numbers are generated from standard normal distribution. also known as gaussian distribution."
   ]
  },
  {
   "cell_type": "code",
   "execution_count": 77,
   "metadata": {},
   "outputs": [
    {
     "data": {
      "text/plain": [
       "array([[2, 6, 2],\n",
       "       [0, 3, 1]])"
      ]
     },
     "execution_count": 77,
     "metadata": {},
     "output_type": "execute_result"
    }
   ],
   "source": [
    "r6 = np.random.choice(7, size= (2,3)) \n",
    "r6"
   ]
  },
  {
   "cell_type": "code",
   "execution_count": 78,
   "metadata": {},
   "outputs": [
    {
     "data": {
      "text/plain": [
       "array([[2, 1, 2],\n",
       "       [3, 5, 4]])"
      ]
     },
     "execution_count": 78,
     "metadata": {},
     "output_type": "execute_result"
    }
   ],
   "source": [
    "r7 = np.random.choice([1,2,3,4,5], size = (2,3)) \n",
    "r7"
   ]
  },
  {
   "cell_type": "markdown",
   "metadata": {},
   "source": [
    "### Efficient and Readable Method for Importing Arrays from Custom CSV Formats"
   ]
  },
  {
   "cell_type": "code",
   "execution_count": 79,
   "metadata": {},
   "outputs": [
    {
     "data": {
      "text/plain": [
       "(100, 28)"
      ]
     },
     "execution_count": 79,
     "metadata": {},
     "output_type": "execute_result"
    }
   ],
   "source": [
    "data = np.genfromtxt(\"./data.csv\", delimiter=\",\", dtype=np.float32)\n",
    "data.shape\n",
    "\n",
    "\n",
    "#here we have loaded the data from the csv file. we have given the path of the file, delimiter and the data type of the elements in the file.\n",
    "#delimiter is used to separate the elements in the file. here we have used comma as the delimiter.\n",
    "#dtype is used to specify the data type of the elements in the file. here we have used float32 as the data type.\n",
    "#shape is used to give the shape of the array. it will give the number of rows and columns in the array. it will give the value in tuple.\n"
   ]
  },
  {
   "cell_type": "code",
   "execution_count": 80,
   "metadata": {},
   "outputs": [
    {
     "data": {
      "text/plain": [
       "(100, 28)"
      ]
     },
     "execution_count": 80,
     "metadata": {},
     "output_type": "execute_result"
    }
   ],
   "source": [
    "\n",
    "#we can also use the following code to load the data from the csv file.\n",
    "\n",
    "data1 = np.loadtxt(\"./data.csv\", delimiter=\",\", dtype=np.float32)\n",
    "data1.shape\n",
    "\n",
    "\n",
    "#only difference between genfromtxt and loadtxt is that genfromtxt can handle missing values and loadtxt cannot handle missing values.\n",
    "# genfromtxt is more flexible than loadtxt.\n",
    "# genfromtxt is slower than loadtxt.\n",
    "# genfromtxt is more memory intensive than loadtxt.\n",
    "# genfromtxt offers more options for parameters."
   ]
  },
  {
   "cell_type": "markdown",
   "metadata": {},
   "source": [
    "#### Eigenvector and EigenValues"
   ]
  },
  {
   "cell_type": "code",
   "execution_count": 81,
   "metadata": {},
   "outputs": [],
   "source": [
    "# a vector that undergoes pure scaling without any rotation is known as eigenvector.\n",
    "# the scalar that scales the eigenvector is known as eigenvalue.\n",
    "# eigenvectors are used in PCA, image compression, face recognition, etc.\n",
    "# eigenvectors are used to find the principal components of the data.\n",
    "# eigenvectors are used to find the directions of maximum variance in the data.\n",
    "# the eigenvectors are the directions along which a particular linear transformation acts by flipping, compressing or stretching."
   ]
  },
  {
   "cell_type": "code",
   "execution_count": 82,
   "metadata": {},
   "outputs": [
    {
     "name": "stdout",
     "output_type": "stream",
     "text": [
      "[ 0.30697009 -0.21062466]\n",
      "[ 0.30697009 -0.21062466]\n",
      "True\n"
     ]
    }
   ],
   "source": [
    "a = np. array( [ [1, 2] ,[3,4]])\n",
    "eigenvalues, eigenvectors = np. linalg.eig(a)\n",
    "#print(eigenvalues)\n",
    "#print(eigenvectors) # column vecotr!\n",
    "# e vec * e val = A * e vec\n",
    "b = eigenvectors[:,0] * eigenvalues[0]\n",
    "print(b)\n",
    "c = a @ eigenvectors[:,0]\n",
    "print(b)\n",
    "#print(b==c)\n",
    "print(np.allclose(b,c)) # this will give True if all the elements of b and c are same, otherwise it will give False."
   ]
  },
  {
   "cell_type": "markdown",
   "metadata": {},
   "source": [
    "### Iterate numpy array using nditer"
   ]
  },
  {
   "cell_type": "code",
   "execution_count": 83,
   "metadata": {},
   "outputs": [
    {
     "data": {
      "text/plain": [
       "array([[0, 1, 2],\n",
       "       [3, 4, 5],\n",
       "       [6, 7, 8]])"
      ]
     },
     "execution_count": 83,
     "metadata": {},
     "output_type": "execute_result"
    }
   ],
   "source": [
    "n1 = np.arange(9).reshape(3,3)\n",
    "n1"
   ]
  },
  {
   "cell_type": "code",
   "execution_count": 84,
   "metadata": {},
   "outputs": [
    {
     "name": "stdout",
     "output_type": "stream",
     "text": [
      "[0 1 2]\n",
      "[3 4 5]\n",
      "[6 7 8]\n"
     ]
    }
   ],
   "source": [
    "for row in n1: #this will print the rows of the array n1.\n",
    "    print(row)\n",
    "  "
   ]
  },
  {
   "cell_type": "code",
   "execution_count": 85,
   "metadata": {},
   "outputs": [
    {
     "name": "stdout",
     "output_type": "stream",
     "text": [
      "0\n",
      "1\n",
      "2\n",
      "3\n",
      "4\n",
      "5\n",
      "6\n",
      "7\n",
      "8\n"
     ]
    }
   ],
   "source": [
    "for row in n1:\n",
    "    for cell in row: #this will give the elements of the array n1 row wise.\n",
    "        print(cell)"
   ]
  },
  {
   "cell_type": "markdown",
   "metadata": {},
   "source": [
    "### flattening the array into list\n",
    "\n",
    "here we don't need to write two `for` loops as above. we can do the above using one single `for` loop"
   ]
  },
  {
   "cell_type": "code",
   "execution_count": 86,
   "metadata": {},
   "outputs": [
    {
     "name": "stdout",
     "output_type": "stream",
     "text": [
      "0\n",
      "1\n",
      "2\n",
      "3\n",
      "4\n",
      "5\n",
      "6\n",
      "7\n",
      "8\n",
      "\n",
      "\n",
      "0\n",
      "1\n",
      "2\n",
      "3\n",
      "4\n",
      "5\n",
      "6\n",
      "7\n",
      "8\n"
     ]
    }
   ],
   "source": [
    "\n",
    "# difference in .flat and .flatten() is that .flat is an attribute and .flatten() is a method.\n",
    "\n",
    "for cell in n1.flat: \n",
    "    print(cell)\n",
    "\n",
    "print(\"\\n\")\n",
    "\n",
    "for cell in n1.flatten(): \n",
    "    print(cell)"
   ]
  },
  {
   "cell_type": "markdown",
   "metadata": {},
   "source": [
    "### Using `numpy.nditer` function\n",
    "\n",
    "\n",
    "#### nditer is used to iterate over the elements of the array. it is faster than the above methods. \n",
    "#### it is used to iterate over the elements of the array in a more efficient way. \n"
   ]
  },
  {
   "cell_type": "markdown",
   "metadata": {},
   "source": [
    "**Order:**\n",
    "1. C order to iterate over each row and each column\n",
    "2. F (fortan) order to iterate over each column and each row\n",
    "\n",
    "![C and Fortan order](c-fortan.jpg)"
   ]
  },
  {
   "cell_type": "code",
   "execution_count": 87,
   "metadata": {},
   "outputs": [
    {
     "name": "stdout",
     "output_type": "stream",
     "text": [
      "0\n",
      "1\n",
      "2\n",
      "3\n",
      "4\n",
      "5\n",
      "6\n",
      "7\n",
      "8\n"
     ]
    }
   ],
   "source": [
    "\n",
    "for ni1 in np.nditer(n1,order='C'): #this will iterate over the elements of the array n1 row wise.[C means row wise]\n",
    "    print(ni1)"
   ]
  },
  {
   "cell_type": "code",
   "execution_count": 88,
   "metadata": {},
   "outputs": [
    {
     "name": "stdout",
     "output_type": "stream",
     "text": [
      "0\n",
      "3\n",
      "6\n",
      "1\n",
      "4\n",
      "7\n",
      "2\n",
      "5\n",
      "8\n"
     ]
    }
   ],
   "source": [
    "for ni2 in np.nditer(n1,order='F'): #this will iterate over the elements of the array n1 column wise. [Fortran order.]\n",
    "    print(ni2)"
   ]
  },
  {
   "cell_type": "code",
   "execution_count": 89,
   "metadata": {},
   "outputs": [
    {
     "name": "stdout",
     "output_type": "stream",
     "text": [
      "[0 3 6]\n",
      "[1 4 7]\n",
      "[2 5 8]\n"
     ]
    }
   ],
   "source": [
    "#external loop here is used to iterate over the entire column instesad of individual elements.\n",
    "for ni3 in np.nditer(n1,order='F',flags=['external_loop']): #this will iterate over the elements of the array n1 column wise. [Fortran order.]\n",
    "    print(ni3)"
   ]
  },
  {
   "cell_type": "code",
   "execution_count": 90,
   "metadata": {},
   "outputs": [
    {
     "name": "stdout",
     "output_type": "stream",
     "text": [
      "[[ 0  1  4]\n",
      " [ 9 16 25]\n",
      " [36 49 64]]\n"
     ]
    }
   ],
   "source": [
    "for ni4 in np.nditer(n1,op_flags=['readwrite']): #this will iterate over the elements of the array n1 and we can change the elements of the array n1.\n",
    "    ni4[...] = ni4 * ni4 #this will square the elements of the array n1.\n",
    "\n",
    "print(n1)"
   ]
  },
  {
   "cell_type": "code",
   "execution_count": 91,
   "metadata": {},
   "outputs": [
    {
     "data": {
      "text/plain": [
       "array([[10, 11, 12],\n",
       "       [13, 14, 15],\n",
       "       [16, 17, 18]])"
      ]
     },
     "execution_count": 91,
     "metadata": {},
     "output_type": "execute_result"
    }
   ],
   "source": [
    "n2 = np.arange(10, 19,1).reshape(3, 3)\n",
    "n2"
   ]
  },
  {
   "cell_type": "code",
   "execution_count": 92,
   "metadata": {},
   "outputs": [
    {
     "name": "stdout",
     "output_type": "stream",
     "text": [
      "0 10\n",
      "1 11\n",
      "4 12\n",
      "9 13\n",
      "16 14\n",
      "25 15\n",
      "36 16\n",
      "49 17\n",
      "64 18\n"
     ]
    }
   ],
   "source": [
    "#loop through both arrays at the same time.\n",
    "\n",
    "for i,j in np.nditer([n1,n2]): #this will iterate over the elements of the arrays n1 and n2 at the same time.\n",
    "    print(i,j)"
   ]
  },
  {
   "cell_type": "code",
   "execution_count": 93,
   "metadata": {},
   "outputs": [
    {
     "data": {
      "text/plain": [
       "array([[[ 1,  2,  3],\n",
       "        [ 4,  5,  6]],\n",
       "\n",
       "       [[11, 12, 13],\n",
       "        [14, 15, 16]],\n",
       "\n",
       "       [[ 7,  8,  9],\n",
       "        [10, 11, 12]],\n",
       "\n",
       "       [[16, 17, 18],\n",
       "        [19, 20, 21]]])"
      ]
     },
     "execution_count": 93,
     "metadata": {},
     "output_type": "execute_result"
    }
   ],
   "source": [
    "z = np.array(\n",
    "    [np.arange(1,7).reshape(2,3),\n",
    "              np.arange(11,17).reshape(2,3),\n",
    "              np.arange(7,13).reshape(2,3),\n",
    "              np.arange(16,22).reshape(2,3)]\n",
    "              )\n",
    "\n",
    "z"
   ]
  },
  {
   "cell_type": "code",
   "execution_count": null,
   "metadata": {},
   "outputs": [],
   "source": []
  }
 ],
 "metadata": {
  "kernelspec": {
   "display_name": "Python 3",
   "language": "python",
   "name": "python3"
  },
  "language_info": {
   "codemirror_mode": {
    "name": "ipython",
    "version": 3
   },
   "file_extension": ".py",
   "mimetype": "text/x-python",
   "name": "python",
   "nbconvert_exporter": "python",
   "pygments_lexer": "ipython3",
   "version": "3.12.3"
  }
 },
 "nbformat": 4,
 "nbformat_minor": 2
}
